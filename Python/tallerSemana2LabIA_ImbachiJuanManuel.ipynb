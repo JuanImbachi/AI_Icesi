{
 "cells": [
  {
   "cell_type": "markdown",
   "metadata": {},
   "source": [
    "# Python Exercises, practice\n",
    "### Student 1: Juan Manuel Imbachí Güengue\n",
    "\n",
    " "
   ]
  },
  {
   "cell_type": "markdown",
   "metadata": {},
   "source": [
    "### 1 exercise"
   ]
  },
  {
   "cell_type": "code",
   "execution_count": 1,
   "metadata": {},
   "outputs": [
    {
     "name": "stdout",
     "output_type": "stream",
     "text": [
      "hello world\n"
     ]
    }
   ],
   "source": [
    "#print hello world\n",
    "\n",
    "print(\"hello world\")"
   ]
  },
  {
   "cell_type": "markdown",
   "metadata": {},
   "source": [
    "### 2 exercise"
   ]
  },
  {
   "cell_type": "code",
   "execution_count": 5,
   "metadata": {},
   "outputs": [],
   "source": [
    "#Let's create a variable with the name variable and assign it the value \"hello world\".\n",
    "variable = \"hello world\""
   ]
  },
  {
   "cell_type": "markdown",
   "metadata": {},
   "source": [
    "### 3 exercise"
   ]
  },
  {
   "cell_type": "code",
   "execution_count": 6,
   "metadata": {},
   "outputs": [
    {
     "data": {
      "text/plain": [
       "str"
      ]
     },
     "execution_count": 6,
     "metadata": {},
     "output_type": "execute_result"
    }
   ],
   "source": [
    "#Print the type of variable\n",
    "type(variable)"
   ]
  },
  {
   "cell_type": "markdown",
   "metadata": {},
   "source": [
    "### 4 exercise"
   ]
  },
  {
   "cell_type": "code",
   "execution_count": 18,
   "metadata": {},
   "outputs": [
    {
     "name": "stdout",
     "output_type": "stream",
     "text": [
      "hello \n"
     ]
    }
   ],
   "source": [
    "#Let's remove the word \" world\" from variable\n",
    "variable = variable.replace(\"world\",\"\")\n",
    "print(variable)"
   ]
  },
  {
   "cell_type": "markdown",
   "metadata": {},
   "source": [
    "### 5 exercise"
   ]
  },
  {
   "cell_type": "code",
   "execution_count": 25,
   "metadata": {},
   "outputs": [
    {
     "name": "stdout",
     "output_type": "stream",
     "text": [
      "1-3-5-7-9-11-13-15-17-19-"
     ]
    }
   ],
   "source": [
    "#Let's make a function which receives a list of number from 1 to 20 and prints only the number that are odd.\n",
    "nlist = [1,2,3,4,5,6,7,8,9,10,11,12,13,14,15,16,17,18,19,20]\n",
    "def odd_numbers ( some_list):\n",
    "    for i in some_list:\n",
    "        if i%2 !=0:\n",
    "            print(i, end=\"-\")\n",
    "            \n",
    "odd_numbers(nlist)"
   ]
  },
  {
   "cell_type": "markdown",
   "metadata": {},
   "source": [
    "### 6 exercise"
   ]
  },
  {
   "cell_type": "code",
   "execution_count": 7,
   "metadata": {},
   "outputs": [
    {
     "name": "stdout",
     "output_type": "stream",
     "text": [
      "[1.0, 4.0, 9.0, 16.0]\n"
     ]
    }
   ],
   "source": [
    "#The method allows us to calculate the exponentiation of each number in the list.\n",
    "import math\n",
    "def pow_list( some_list, number):\n",
    "    pos = 0\n",
    "    for i in some_list:\n",
    "        some_list[pos] = math.pow(i, number)\n",
    "        pos +=1\n",
    "\n",
    "nlist = [1,2,3,4]\n",
    "pow_list(nlist, 2)\n",
    "print(nlist)"
   ]
  },
  {
   "cell_type": "markdown",
   "metadata": {},
   "source": [
    "### 7 exercise"
   ]
  },
  {
   "cell_type": "code",
   "execution_count": 9,
   "metadata": {},
   "outputs": [],
   "source": [
    "#The idea is to do a dictionary diccionario with the next keys and values:\n",
    "#variableUno: [1,2,3,4]\n",
    "#variableDos: [\"1\",\"a\",\"?\"]\n",
    "diccionario = { \"variableUno\": [1,2,3,4], \"variableDos\": [\"1\",\"a\",\"?\"]}"
   ]
  },
  {
   "cell_type": "markdown",
   "metadata": {},
   "source": [
    "### 8 exercise"
   ]
  },
  {
   "cell_type": "code",
   "execution_count": 8,
   "metadata": {},
   "outputs": [
    {
     "name": "stdout",
     "output_type": "stream",
     "text": [
      "zpam\n"
     ]
    }
   ],
   "source": [
    "#Change the first letter of \"Spam\" to \"z\"\n",
    "\n",
    "word = \"Spam\"\n",
    "\n",
    "word = word.replace(\"S\",\"z\")\n",
    "print(word)"
   ]
  },
  {
   "cell_type": "markdown",
   "metadata": {},
   "source": [
    "### 9 exercise"
   ]
  },
  {
   "cell_type": "code",
   "execution_count": 12,
   "metadata": {},
   "outputs": [
    {
     "name": "stdout",
     "output_type": "stream",
     "text": [
      "12\n"
     ]
    }
   ],
   "source": [
    "#let's do a program which receives some parameters in order to calculate the perimeter of a rectangle.\n",
    "#p = 2x + 2y\n",
    "\n",
    "def calculate_perimeter(x,y):\n",
    "\n",
    "    perimeter = (2*x) + (2*y)\n",
    "\n",
    "    return perimeter\n",
    "\n",
    "\n",
    "z = calculate_perimeter(2,4)\n",
    "print(z)\n"
   ]
  },
  {
   "cell_type": "markdown",
   "metadata": {},
   "source": [
    "### 10 exercise"
   ]
  },
  {
   "cell_type": "code",
   "execution_count": 23,
   "metadata": {
    "scrolled": true
   },
   "outputs": [
    {
     "name": "stdout",
     "output_type": "stream",
     "text": [
      "Jorge\n",
      "20.281233098972418\n",
      "Juan\n",
      "28.089010954714272\n",
      "Xiomara\n",
      "19.77769866698311\n",
      "Oswaldo\n",
      "25.282569898869724\n",
      "Myriam\n",
      "24.609374999999996\n"
     ]
    }
   ],
   "source": [
    "#Create a class that saves the name of a person, his height in meters and weights in kilograms.\n",
    "#This class must have a operation which calculate the Body mass index (BMI).\n",
    "#Define a list of 5 persons and print their BMI.\n",
    "\n",
    "import math\n",
    "\n",
    "class Person(object):\n",
    "\n",
    "    def __init__(self,name,height,weight):\n",
    "        self.name = name\n",
    "        self.height = height\n",
    "        self.weight = weight\n",
    "\n",
    "\n",
    "    def BMI(self):\n",
    "        x = self.height\n",
    "        y = self.weight\n",
    "        z = y/ math.pow(x,2)\n",
    "        return z\n",
    "    \n",
    "nlist = [Person(\"Jorge\",1.72,60), Person(\"Juan\",1.79,90),Person(\"Xiomara\",1.59,50),Person(\"Oswaldo\",1.64,68),Person(\"Myriam\",1.60,63)]\n",
    "\n",
    "for i in nlist:\n",
    "    print(i.name)\n",
    "    print(i.BMI())"
   ]
  },
  {
   "cell_type": "markdown",
   "metadata": {},
   "source": [
    "### 11 exercise"
   ]
  },
  {
   "cell_type": "code",
   "execution_count": 37,
   "metadata": {},
   "outputs": [
    {
     "name": "stdout",
     "output_type": "stream",
     "text": [
      "1\n",
      "whiz\n",
      "bang\n",
      "whiz\n",
      "5\n",
      "whiz\n",
      "7\n",
      "whiz\n",
      "bang\n",
      "whiz\n",
      "11\n",
      "whiz\n",
      "13\n",
      "whiz\n",
      "bang\n",
      "whiz\n",
      "17\n",
      "whiz\n",
      "19\n",
      "whiz\n",
      "bang\n",
      "whiz\n",
      "23\n",
      "whiz\n",
      "25\n",
      "whiz\n",
      "bang\n",
      "whiz\n",
      "29\n",
      "whiz\n",
      "31\n",
      "whiz\n",
      "bang\n",
      "whiz\n",
      "35\n",
      "whiz\n",
      "37\n",
      "whiz\n",
      "bang\n",
      "whiz\n",
      "41\n",
      "whiz\n",
      "43\n",
      "whiz\n",
      "bang\n",
      "whiz\n",
      "47\n",
      "whiz\n",
      "49\n",
      "whiz\n",
      "bang\n",
      "whiz\n",
      "53\n",
      "whiz\n",
      "55\n",
      "whiz\n",
      "bang\n",
      "whiz\n",
      "59\n",
      "whiz\n",
      "61\n",
      "whiz\n",
      "bang\n",
      "whiz\n",
      "65\n",
      "whiz\n",
      "67\n",
      "whiz\n",
      "bang\n",
      "whiz\n",
      "71\n",
      "whiz\n",
      "73\n",
      "whiz\n",
      "bang\n",
      "whiz\n",
      "77\n",
      "whiz\n",
      "79\n",
      "whiz\n",
      "bang\n",
      "whiz\n",
      "83\n",
      "whiz\n",
      "85\n",
      "whiz\n",
      "bang\n",
      "whiz\n",
      "89\n",
      "whiz\n",
      "91\n",
      "whiz\n",
      "bang\n",
      "whiz\n",
      "95\n",
      "whiz\n",
      "97\n",
      "whiz\n",
      "bang\n",
      "whiz\n"
     ]
    }
   ],
   "source": [
    "#make a program that prints the numbers from 1 to 100 \n",
    "#If the number is divisible by 2 then print \"whiz\" if the number is divisible by 3 then print \"bang\"\n",
    "\n",
    "\n",
    "for i in range(1,101):\n",
    "   \n",
    "    if i %2 == 0:\n",
    "        print (\"whiz\")\n",
    "    elif i%3 ==0:\n",
    "        print(\"bang\")\n",
    "    else:\n",
    "        print(i)\n"
   ]
  },
  {
   "cell_type": "code",
   "execution_count": null,
   "metadata": {},
   "outputs": [],
   "source": []
  }
 ],
 "metadata": {
  "kernelspec": {
   "display_name": "Python 3",
   "language": "python",
   "name": "python3"
  },
  "language_info": {
   "codemirror_mode": {
    "name": "ipython",
    "version": 3
   },
   "file_extension": ".py",
   "mimetype": "text/x-python",
   "name": "python",
   "nbconvert_exporter": "python",
   "pygments_lexer": "ipython3",
   "version": "3.7.3"
  }
 },
 "nbformat": 4,
 "nbformat_minor": 2
}
